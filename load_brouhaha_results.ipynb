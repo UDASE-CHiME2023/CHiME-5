{
 "cells": [
  {
   "attachments": {},
   "cell_type": "markdown",
   "metadata": {},
   "source": [
    "# Load Brouhaha results"
   ]
  },
  {
   "cell_type": "code",
   "execution_count": 9,
   "metadata": {},
   "outputs": [],
   "source": [
    "import pandas as pd\n",
    "\n",
    "# for visualisation\n",
    "import seaborn as sns\n",
    "import matplotlib.pyplot as plt"
   ]
  },
  {
   "attachments": {},
   "cell_type": "markdown",
   "metadata": {},
   "source": [
    "## Load mean SNR and speech duration per audio files\n",
    "\n",
    "```brouhaha_mean_results.csv``` contains the mean speech-to-noise ratio and the speech duration (both predicted by Brouhaha) for each audio files in the dataset.\n",
    "- ```split``` in {'dev', 'eval', 'train'}\n",
    "- ```nspeakers``` in {'0', '1', '2', '3', 'unlabeled'}\n",
    "- ```filename``` = ```session``` _ ```ref_speaker``` _ ```mix```: audio file name with:\n",
    "    - ```session```: CHiME session\n",
    "    - ```ref_speaker```: ID of the participant with the microphone \n",
    "    - ```mix```: mix number\n",
    "- ```audio_duration```: audio duration in seconds\n",
    "- ```brouhaha_speech_duration```: total speech duration in seconds predicted by Brouhaha\n",
    "- ```brouhaha_speech_percentage``` = ```brouhaha_speech_duration``` / ```audio_duration``` : speech percentage predicted by Brouhaha\n",
    "- ```brouhaha_snr_mean```: mean SNR predicted by Brouhaha\n",
    "- ```brouhaha_c50_mean```: mean C50 predicted by Brouhaha"
   ]
  },
  {
   "cell_type": "code",
   "execution_count": 10,
   "metadata": {},
   "outputs": [
    {
     "data": {
      "text/html": [
       "<div>\n",
       "<style scoped>\n",
       "    .dataframe tbody tr th:only-of-type {\n",
       "        vertical-align: middle;\n",
       "    }\n",
       "\n",
       "    .dataframe tbody tr th {\n",
       "        vertical-align: top;\n",
       "    }\n",
       "\n",
       "    .dataframe thead th {\n",
       "        text-align: right;\n",
       "    }\n",
       "</style>\n",
       "<table border=\"1\" class=\"dataframe\">\n",
       "  <thead>\n",
       "    <tr style=\"text-align: right;\">\n",
       "      <th></th>\n",
       "      <th>split</th>\n",
       "      <th>nspeakers</th>\n",
       "      <th>filename</th>\n",
       "      <th>session</th>\n",
       "      <th>ref_speaker</th>\n",
       "      <th>mix</th>\n",
       "      <th>audio_duration</th>\n",
       "      <th>brouhaha_speech_duration</th>\n",
       "      <th>brouhaha_speech_percentage</th>\n",
       "      <th>brouhaha_snr_mean</th>\n",
       "      <th>brouhaha_c50_mean</th>\n",
       "    </tr>\n",
       "  </thead>\n",
       "  <tbody>\n",
       "    <tr>\n",
       "      <th>dev/0/S02_P05_10.wav</th>\n",
       "      <td>dev</td>\n",
       "      <td>0</td>\n",
       "      <td>S02_P05_10</td>\n",
       "      <td>S02</td>\n",
       "      <td>P05</td>\n",
       "      <td>10</td>\n",
       "      <td>9.15</td>\n",
       "      <td>0.000</td>\n",
       "      <td>0.000000</td>\n",
       "      <td>-3.128032</td>\n",
       "      <td>23.220364</td>\n",
       "    </tr>\n",
       "    <tr>\n",
       "      <th>dev/0/S02_P05_11.wav</th>\n",
       "      <td>dev</td>\n",
       "      <td>0</td>\n",
       "      <td>S02_P05_11</td>\n",
       "      <td>S02</td>\n",
       "      <td>P05</td>\n",
       "      <td>11</td>\n",
       "      <td>3.90</td>\n",
       "      <td>0.000</td>\n",
       "      <td>0.000000</td>\n",
       "      <td>7.857205</td>\n",
       "      <td>24.311077</td>\n",
       "    </tr>\n",
       "    <tr>\n",
       "      <th>dev/0/S02_P05_12.wav</th>\n",
       "      <td>dev</td>\n",
       "      <td>0</td>\n",
       "      <td>S02_P05_12</td>\n",
       "      <td>S02</td>\n",
       "      <td>P05</td>\n",
       "      <td>12</td>\n",
       "      <td>7.43</td>\n",
       "      <td>0.000</td>\n",
       "      <td>0.000000</td>\n",
       "      <td>-3.600504</td>\n",
       "      <td>21.516619</td>\n",
       "    </tr>\n",
       "    <tr>\n",
       "      <th>dev/0/S02_P05_13.wav</th>\n",
       "      <td>dev</td>\n",
       "      <td>0</td>\n",
       "      <td>S02_P05_13</td>\n",
       "      <td>S02</td>\n",
       "      <td>P05</td>\n",
       "      <td>13</td>\n",
       "      <td>3.36</td>\n",
       "      <td>0.000</td>\n",
       "      <td>0.000000</td>\n",
       "      <td>0.770066</td>\n",
       "      <td>32.598824</td>\n",
       "    </tr>\n",
       "    <tr>\n",
       "      <th>dev/0/S02_P05_14.wav</th>\n",
       "      <td>dev</td>\n",
       "      <td>0</td>\n",
       "      <td>S02_P05_14</td>\n",
       "      <td>S02</td>\n",
       "      <td>P05</td>\n",
       "      <td>14</td>\n",
       "      <td>5.02</td>\n",
       "      <td>0.000</td>\n",
       "      <td>0.000000</td>\n",
       "      <td>2.349033</td>\n",
       "      <td>22.032469</td>\n",
       "    </tr>\n",
       "    <tr>\n",
       "      <th>...</th>\n",
       "      <td>...</td>\n",
       "      <td>...</td>\n",
       "      <td>...</td>\n",
       "      <td>...</td>\n",
       "      <td>...</td>\n",
       "      <td>...</td>\n",
       "      <td>...</td>\n",
       "      <td>...</td>\n",
       "      <td>...</td>\n",
       "      <td>...</td>\n",
       "      <td>...</td>\n",
       "    </tr>\n",
       "    <tr>\n",
       "      <th>train/unlabeled/S24_P56_95.wav</th>\n",
       "      <td>train</td>\n",
       "      <td>unlabeled</td>\n",
       "      <td>S24_P56_95</td>\n",
       "      <td>S24</td>\n",
       "      <td>P56</td>\n",
       "      <td>95</td>\n",
       "      <td>3.83</td>\n",
       "      <td>3.780</td>\n",
       "      <td>0.986945</td>\n",
       "      <td>9.466739</td>\n",
       "      <td>9.662007</td>\n",
       "    </tr>\n",
       "    <tr>\n",
       "      <th>train/unlabeled/S24_P56_96.wav</th>\n",
       "      <td>train</td>\n",
       "      <td>unlabeled</td>\n",
       "      <td>S24_P56_96</td>\n",
       "      <td>S24</td>\n",
       "      <td>P56</td>\n",
       "      <td>96</td>\n",
       "      <td>6.06</td>\n",
       "      <td>5.434</td>\n",
       "      <td>0.896700</td>\n",
       "      <td>3.592137</td>\n",
       "      <td>7.181939</td>\n",
       "    </tr>\n",
       "    <tr>\n",
       "      <th>train/unlabeled/S24_P56_97.wav</th>\n",
       "      <td>train</td>\n",
       "      <td>unlabeled</td>\n",
       "      <td>S24_P56_97</td>\n",
       "      <td>S24</td>\n",
       "      <td>P56</td>\n",
       "      <td>97</td>\n",
       "      <td>6.53</td>\n",
       "      <td>4.996</td>\n",
       "      <td>0.765084</td>\n",
       "      <td>3.384964</td>\n",
       "      <td>11.277267</td>\n",
       "    </tr>\n",
       "    <tr>\n",
       "      <th>train/unlabeled/S24_P56_98.wav</th>\n",
       "      <td>train</td>\n",
       "      <td>unlabeled</td>\n",
       "      <td>S24_P56_98</td>\n",
       "      <td>S24</td>\n",
       "      <td>P56</td>\n",
       "      <td>98</td>\n",
       "      <td>17.11</td>\n",
       "      <td>11.693</td>\n",
       "      <td>0.683402</td>\n",
       "      <td>10.851442</td>\n",
       "      <td>9.358819</td>\n",
       "    </tr>\n",
       "    <tr>\n",
       "      <th>train/unlabeled/S24_P56_99.wav</th>\n",
       "      <td>train</td>\n",
       "      <td>unlabeled</td>\n",
       "      <td>S24_P56_99</td>\n",
       "      <td>S24</td>\n",
       "      <td>P56</td>\n",
       "      <td>99</td>\n",
       "      <td>3.70</td>\n",
       "      <td>3.105</td>\n",
       "      <td>0.839189</td>\n",
       "      <td>16.447264</td>\n",
       "      <td>11.204409</td>\n",
       "    </tr>\n",
       "  </tbody>\n",
       "</table>\n",
       "<p>44576 rows × 11 columns</p>\n",
       "</div>"
      ],
      "text/plain": [
       "                                split  nspeakers    filename session  \\\n",
       "dev/0/S02_P05_10.wav              dev          0  S02_P05_10     S02   \n",
       "dev/0/S02_P05_11.wav              dev          0  S02_P05_11     S02   \n",
       "dev/0/S02_P05_12.wav              dev          0  S02_P05_12     S02   \n",
       "dev/0/S02_P05_13.wav              dev          0  S02_P05_13     S02   \n",
       "dev/0/S02_P05_14.wav              dev          0  S02_P05_14     S02   \n",
       "...                               ...        ...         ...     ...   \n",
       "train/unlabeled/S24_P56_95.wav  train  unlabeled  S24_P56_95     S24   \n",
       "train/unlabeled/S24_P56_96.wav  train  unlabeled  S24_P56_96     S24   \n",
       "train/unlabeled/S24_P56_97.wav  train  unlabeled  S24_P56_97     S24   \n",
       "train/unlabeled/S24_P56_98.wav  train  unlabeled  S24_P56_98     S24   \n",
       "train/unlabeled/S24_P56_99.wav  train  unlabeled  S24_P56_99     S24   \n",
       "\n",
       "                               ref_speaker  mix  audio_duration  \\\n",
       "dev/0/S02_P05_10.wav                   P05   10            9.15   \n",
       "dev/0/S02_P05_11.wav                   P05   11            3.90   \n",
       "dev/0/S02_P05_12.wav                   P05   12            7.43   \n",
       "dev/0/S02_P05_13.wav                   P05   13            3.36   \n",
       "dev/0/S02_P05_14.wav                   P05   14            5.02   \n",
       "...                                    ...  ...             ...   \n",
       "train/unlabeled/S24_P56_95.wav         P56   95            3.83   \n",
       "train/unlabeled/S24_P56_96.wav         P56   96            6.06   \n",
       "train/unlabeled/S24_P56_97.wav         P56   97            6.53   \n",
       "train/unlabeled/S24_P56_98.wav         P56   98           17.11   \n",
       "train/unlabeled/S24_P56_99.wav         P56   99            3.70   \n",
       "\n",
       "                                brouhaha_speech_duration  \\\n",
       "dev/0/S02_P05_10.wav                               0.000   \n",
       "dev/0/S02_P05_11.wav                               0.000   \n",
       "dev/0/S02_P05_12.wav                               0.000   \n",
       "dev/0/S02_P05_13.wav                               0.000   \n",
       "dev/0/S02_P05_14.wav                               0.000   \n",
       "...                                                  ...   \n",
       "train/unlabeled/S24_P56_95.wav                     3.780   \n",
       "train/unlabeled/S24_P56_96.wav                     5.434   \n",
       "train/unlabeled/S24_P56_97.wav                     4.996   \n",
       "train/unlabeled/S24_P56_98.wav                    11.693   \n",
       "train/unlabeled/S24_P56_99.wav                     3.105   \n",
       "\n",
       "                                brouhaha_speech_percentage  brouhaha_snr_mean  \\\n",
       "dev/0/S02_P05_10.wav                              0.000000          -3.128032   \n",
       "dev/0/S02_P05_11.wav                              0.000000           7.857205   \n",
       "dev/0/S02_P05_12.wav                              0.000000          -3.600504   \n",
       "dev/0/S02_P05_13.wav                              0.000000           0.770066   \n",
       "dev/0/S02_P05_14.wav                              0.000000           2.349033   \n",
       "...                                                    ...                ...   \n",
       "train/unlabeled/S24_P56_95.wav                    0.986945           9.466739   \n",
       "train/unlabeled/S24_P56_96.wav                    0.896700           3.592137   \n",
       "train/unlabeled/S24_P56_97.wav                    0.765084           3.384964   \n",
       "train/unlabeled/S24_P56_98.wav                    0.683402          10.851442   \n",
       "train/unlabeled/S24_P56_99.wav                    0.839189          16.447264   \n",
       "\n",
       "                                brouhaha_c50_mean  \n",
       "dev/0/S02_P05_10.wav                    23.220364  \n",
       "dev/0/S02_P05_11.wav                    24.311077  \n",
       "dev/0/S02_P05_12.wav                    21.516619  \n",
       "dev/0/S02_P05_13.wav                    32.598824  \n",
       "dev/0/S02_P05_14.wav                    22.032469  \n",
       "...                                           ...  \n",
       "train/unlabeled/S24_P56_95.wav           9.662007  \n",
       "train/unlabeled/S24_P56_96.wav           7.181939  \n",
       "train/unlabeled/S24_P56_97.wav          11.277267  \n",
       "train/unlabeled/S24_P56_98.wav           9.358819  \n",
       "train/unlabeled/S24_P56_99.wav          11.204409  \n",
       "\n",
       "[44576 rows x 11 columns]"
      ]
     },
     "execution_count": 10,
     "metadata": {},
     "output_type": "execute_result"
    }
   ],
   "source": [
    "brouhaha_results = pd.read_csv('brouhaha_mean_results.csv', index_col=0)\n",
    "brouhaha_results"
   ]
  },
  {
   "cell_type": "code",
   "execution_count": 11,
   "metadata": {},
   "outputs": [
    {
     "data": {
      "text/plain": [
       "<matplotlib.legend.Legend at 0x7f0fcb30d460>"
      ]
     },
     "execution_count": 11,
     "metadata": {},
     "output_type": "execute_result"
    },
    {
     "data": {
      "image/png": "[encoded data removed]",
      "text/plain": [
       "<Figure size 640x480 with 1 Axes>"
      ]
     },
     "metadata": {},
     "output_type": "display_data"
    }
   ],
   "source": [
    "sns.boxplot(data=brouhaha_results, x='brouhaha_speech_percentage', y='split', hue='nspeakers', flierprops={\"marker\": \".\"})\n",
    "plt.legend(loc='lower left')"
   ]
  },
  {
   "cell_type": "code",
   "execution_count": 12,
   "metadata": {},
   "outputs": [
    {
     "data": {
      "text/plain": [
       "<matplotlib.legend.Legend at 0x7f0fca7ab070>"
      ]
     },
     "execution_count": 12,
     "metadata": {},
     "output_type": "execute_result"
    },
    {
     "data": {
      "image/png": "[encoded data removed]",
      "text/plain": [
       "<Figure size 640x480 with 1 Axes>"
      ]
     },
     "metadata": {},
     "output_type": "display_data"
    }
   ],
   "source": [
    "sns.boxplot(data=brouhaha_results, x='brouhaha_snr_mean', y='split', hue='nspeakers', flierprops={\"marker\": \".\"})\n",
    "plt.legend(loc='lower left')"
   ]
  },
  {
   "attachments": {},
   "cell_type": "markdown",
   "metadata": {},
   "source": [
    "## Load estimated VAD and SNR (frame level)\n",
    "\n",
    "```brouhaha_vad_snr.csv``` contains the frame-level voice activity detection and speech-to-noise ratio outputed by Brouhaha (with a frame duration of 0.016875ms):\n",
    "- ```snr```: list of speech to noise ratio\n",
    "- ```vad```: list of voice activity detection (0: no voice detected; 1: voice detected)\n",
    "\n",
    "Each line corresponds to a different audio file (of duration ```d```) and each cell contains a list of size ```np.ceil(d/0.016875)```."
   ]
  },
  {
   "cell_type": "code",
   "execution_count": 13,
   "metadata": {},
   "outputs": [
    {
     "data": {
      "text/html": [
       "<div>\n",
       "<style scoped>\n",
       "    .dataframe tbody tr th:only-of-type {\n",
       "        vertical-align: middle;\n",
       "    }\n",
       "\n",
       "    .dataframe tbody tr th {\n",
       "        vertical-align: top;\n",
       "    }\n",
       "\n",
       "    .dataframe thead th {\n",
       "        text-align: right;\n",
       "    }\n",
       "</style>\n",
       "<table border=\"1\" class=\"dataframe\">\n",
       "  <thead>\n",
       "    <tr style=\"text-align: right;\">\n",
       "      <th></th>\n",
       "      <th>snr</th>\n",
       "      <th>vad</th>\n",
       "    </tr>\n",
       "  </thead>\n",
       "  <tbody>\n",
       "    <tr>\n",
       "      <th>eval/0/S01_P01_120.wav</th>\n",
       "      <td>[2.57, 2.36, 2.1, 1.58, 1.31, 1.02, 0.54, 0.2,...</td>\n",
       "      <td>[0, 0, 0, 0, 0, 0, 0, 0, 0, 0, 0, 0, 0, 0, 0, ...</td>\n",
       "    </tr>\n",
       "    <tr>\n",
       "      <th>eval/0/S01_P03_59.wav</th>\n",
       "      <td>[4.71, 5.83, 2.13, 1.46, -0.79, -2.32, -2.85, ...</td>\n",
       "      <td>[0, 0, 0, 0, 0, 0, 0, 0, 0, 0, 0, 0, 0, 0, 0, ...</td>\n",
       "    </tr>\n",
       "    <tr>\n",
       "      <th>eval/0/S01_P04_120.wav</th>\n",
       "      <td>[4.36, 4.16, 3.82, 3.67, 3.73, 3.8, 3.43, 3.07...</td>\n",
       "      <td>[0, 0, 0, 0, 0, 0, 0, 0, 0, 0, 0, 0, 0, 0, 0, ...</td>\n",
       "    </tr>\n",
       "    <tr>\n",
       "      <th>eval/0/S21_P46_131.wav</th>\n",
       "      <td>[9.53, 10.78, 15.31, 18.52, 16.18, 14.74, 14.8...</td>\n",
       "      <td>[0, 0, 0, 0, 0, 0, 0, 0, 0, 0, 0, 0, 0, 0, 0, ...</td>\n",
       "    </tr>\n",
       "    <tr>\n",
       "      <th>eval/0/S21_P46_103.wav</th>\n",
       "      <td>[-0.32, -0.91, -1.24, -1.37, -2.09, -2.55, -3....</td>\n",
       "      <td>[0, 0, 0, 0, 0, 0, 0, 0, 0, 0, 0, 0, 0, 0, 0, ...</td>\n",
       "    </tr>\n",
       "    <tr>\n",
       "      <th>...</th>\n",
       "      <td>...</td>\n",
       "      <td>...</td>\n",
       "    </tr>\n",
       "    <tr>\n",
       "      <th>train/unlabeled/S08_P23_312.wav</th>\n",
       "      <td>[6.5, 6.78, 6.8, 6.77, 6.61, 6.64, 6.61, 6.69,...</td>\n",
       "      <td>[1, 1, 1, 1, 1, 1, 1, 1, 1, 1, 1, 1, 1, 1, 1, ...</td>\n",
       "    </tr>\n",
       "    <tr>\n",
       "      <th>train/unlabeled/S04_P12_337.wav</th>\n",
       "      <td>[19.47, 19.23, 19.13, 19.07, 18.96, 18.85, 18....</td>\n",
       "      <td>[0, 0, 0, 1, 1, 1, 1, 1, 1, 1, 1, 1, 1, 1, 1, ...</td>\n",
       "    </tr>\n",
       "    <tr>\n",
       "      <th>train/unlabeled/S03_P09_87.wav</th>\n",
       "      <td>[8.38, 8.58, 8.66, 8.83, 8.67, 7.62, 8.31, 7.3...</td>\n",
       "      <td>[0, 0, 0, 0, 0, 0, 0, 0, 0, 0, 0, 0, 0, 0, 0, ...</td>\n",
       "    </tr>\n",
       "    <tr>\n",
       "      <th>train/unlabeled/S04_P12_58.wav</th>\n",
       "      <td>[14.76, 14.12, 13.83, 13.74, 13.39, 13.42, 12....</td>\n",
       "      <td>[0, 0, 0, 0, 0, 0, 0, 0, 0, 0, 0, 0, 0, 0, 0, ...</td>\n",
       "    </tr>\n",
       "    <tr>\n",
       "      <th>train/unlabeled/S04_P11_393.wav</th>\n",
       "      <td>[30.06, 30.15, 30.56, 30.42, 30.89, 30.49, 30....</td>\n",
       "      <td>[0, 0, 0, 0, 0, 0, 0, 0, 0, 0, 0, 0, 0, 0, 0, ...</td>\n",
       "    </tr>\n",
       "  </tbody>\n",
       "</table>\n",
       "<p>44576 rows × 2 columns</p>\n",
       "</div>"
      ],
      "text/plain": [
       "                                                                               snr  \\\n",
       "eval/0/S01_P01_120.wav           [2.57, 2.36, 2.1, 1.58, 1.31, 1.02, 0.54, 0.2,...   \n",
       "eval/0/S01_P03_59.wav            [4.71, 5.83, 2.13, 1.46, -0.79, -2.32, -2.85, ...   \n",
       "eval/0/S01_P04_120.wav           [4.36, 4.16, 3.82, 3.67, 3.73, 3.8, 3.43, 3.07...   \n",
       "eval/0/S21_P46_131.wav           [9.53, 10.78, 15.31, 18.52, 16.18, 14.74, 14.8...   \n",
       "eval/0/S21_P46_103.wav           [-0.32, -0.91, -1.24, -1.37, -2.09, -2.55, -3....   \n",
       "...                                                                            ...   \n",
       "train/unlabeled/S08_P23_312.wav  [6.5, 6.78, 6.8, 6.77, 6.61, 6.64, 6.61, 6.69,...   \n",
       "train/unlabeled/S04_P12_337.wav  [19.47, 19.23, 19.13, 19.07, 18.96, 18.85, 18....   \n",
       "train/unlabeled/S03_P09_87.wav   [8.38, 8.58, 8.66, 8.83, 8.67, 7.62, 8.31, 7.3...   \n",
       "train/unlabeled/S04_P12_58.wav   [14.76, 14.12, 13.83, 13.74, 13.39, 13.42, 12....   \n",
       "train/unlabeled/S04_P11_393.wav  [30.06, 30.15, 30.56, 30.42, 30.89, 30.49, 30....   \n",
       "\n",
       "                                                                               vad  \n",
       "eval/0/S01_P01_120.wav           [0, 0, 0, 0, 0, 0, 0, 0, 0, 0, 0, 0, 0, 0, 0, ...  \n",
       "eval/0/S01_P03_59.wav            [0, 0, 0, 0, 0, 0, 0, 0, 0, 0, 0, 0, 0, 0, 0, ...  \n",
       "eval/0/S01_P04_120.wav           [0, 0, 0, 0, 0, 0, 0, 0, 0, 0, 0, 0, 0, 0, 0, ...  \n",
       "eval/0/S21_P46_131.wav           [0, 0, 0, 0, 0, 0, 0, 0, 0, 0, 0, 0, 0, 0, 0, ...  \n",
       "eval/0/S21_P46_103.wav           [0, 0, 0, 0, 0, 0, 0, 0, 0, 0, 0, 0, 0, 0, 0, ...  \n",
       "...                                                                            ...  \n",
       "train/unlabeled/S08_P23_312.wav  [1, 1, 1, 1, 1, 1, 1, 1, 1, 1, 1, 1, 1, 1, 1, ...  \n",
       "train/unlabeled/S04_P12_337.wav  [0, 0, 0, 1, 1, 1, 1, 1, 1, 1, 1, 1, 1, 1, 1, ...  \n",
       "train/unlabeled/S03_P09_87.wav   [0, 0, 0, 0, 0, 0, 0, 0, 0, 0, 0, 0, 0, 0, 0, ...  \n",
       "train/unlabeled/S04_P12_58.wav   [0, 0, 0, 0, 0, 0, 0, 0, 0, 0, 0, 0, 0, 0, 0, ...  \n",
       "train/unlabeled/S04_P11_393.wav  [0, 0, 0, 0, 0, 0, 0, 0, 0, 0, 0, 0, 0, 0, 0, ...  \n",
       "\n",
       "[44576 rows x 2 columns]"
      ]
     },
     "execution_count": 13,
     "metadata": {},
     "output_type": "execute_result"
    }
   ],
   "source": [
    "results = pd.read_csv('brouhaha_vad_snr.csv', index_col=0)\n",
    "results"
   ]
  },
  {
   "cell_type": "code",
   "execution_count": 14,
   "metadata": {},
   "outputs": [
    {
     "data": {
      "text/plain": [
       "str"
      ]
     },
     "execution_count": 14,
     "metadata": {},
     "output_type": "execute_result"
    }
   ],
   "source": [
    "# cells contains strings\n",
    "type(results.iloc[0,0])"
   ]
  },
  {
   "cell_type": "code",
   "execution_count": 15,
   "metadata": {},
   "outputs": [
    {
     "data": {
      "text/plain": [
       "list"
      ]
     },
     "execution_count": 15,
     "metadata": {},
     "output_type": "execute_result"
    }
   ],
   "source": [
    "# convert strings in cells to list of float\n",
    "def string_to_float_list(s):\n",
    "    return [float(f) for f in s[1:-1].split(sep=', ')]\n",
    "\n",
    "results = results.applymap(string_to_float_list)\n",
    "type(results.iloc[0,0])"
   ]
  },
  {
   "cell_type": "code",
   "execution_count": 21,
   "metadata": {},
   "outputs": [
    {
     "data": {
      "text/plain": [
       "[<matplotlib.lines.Line2D at 0x7f0f6c981a90>]"
      ]
     },
     "execution_count": 21,
     "metadata": {},
     "output_type": "execute_result"
    },
    {
     "data": {
      "image/png": "[encoded data removed]",
      "text/plain": [
       "<Figure size 640x480 with 1 Axes>"
      ]
     },
     "metadata": {},
     "output_type": "display_data"
    }
   ],
   "source": [
    "plt.plot(results.iloc[44575,0])\n",
    "plt.plot(results.iloc[44575,1])"
   ]
  }
 ],
 "metadata": {
  "kernelspec": {
   "display_name": "CHiME",
   "language": "python",
   "name": "python3"
  },
  "language_info": {
   "codemirror_mode": {
    "name": "ipython",
    "version": 3
   },
   "file_extension": ".py",
   "mimetype": "text/x-python",
   "name": "python",
   "nbconvert_exporter": "python",
   "pygments_lexer": "ipython3",
   "version": "3.8.15 (default, Nov 24 2022, 15:19:38) \n[GCC 11.2.0]"
  },
  "orig_nbformat": 4,
  "vscode": {
   "interpreter": {
    "hash": "aa8b5c794fb60f7c27fb6fd8b946b0eeada51fd4e481e1ed16db284fa911629e"
   }
  }
 },
 "nbformat": 4,
 "nbformat_minor": 2
}
